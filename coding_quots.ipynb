{
  "nbformat": 4,
  "nbformat_minor": 0,
  "metadata": {
    "colab": {
      "provenance": []
    },
    "kernelspec": {
      "name": "python3",
      "display_name": "Python 3"
    },
    "language_info": {
      "name": "python"
    }
  },
  "cells": [
    {
      "cell_type": "markdown",
      "source": [
        "#python program to find smallest number among them."
      ],
      "metadata": {
        "id": "GLchBsU4viZs"
      }
    },
    {
      "cell_type": "code",
      "source": [
        "a=5\n",
        "b=10\n",
        "c=3\n",
        "min_value=min(a,b,c)\n",
        "print(f\"the smallest value is {min_value}\")"
      ],
      "metadata": {
        "colab": {
          "base_uri": "https://localhost:8080/"
        },
        "id": "ogZ9MZlswSgz",
        "outputId": "f4bdf32a-63eb-45a7-9b42-a1600ddb3fcb"
      },
      "execution_count": 2,
      "outputs": [
        {
          "output_type": "stream",
          "name": "stdout",
          "text": [
            "the smallest value is 3\n"
          ]
        }
      ]
    },
    {
      "cell_type": "code",
      "source": [
        "a=7\n",
        "b=10\n",
        "c=35\n",
        "if(a<=b and a<=c):\n",
        "  print(a,\"is the smallest\")\n",
        "elif(b<=a and b<=c):\n",
        "  print(b,\"is the smallest\")\n",
        "else:\n",
        "  print(c,\"is the smallest\")\n"
      ],
      "metadata": {
        "colab": {
          "base_uri": "https://localhost:8080/"
        },
        "id": "GQ_FXIXlv9Uc",
        "outputId": "a55ba10a-0a15-4b3c-f47a-96375dfe0db3"
      },
      "execution_count": 3,
      "outputs": [
        {
          "output_type": "stream",
          "name": "stdout",
          "text": [
            "7 is the smallest\n"
          ]
        }
      ]
    },
    {
      "cell_type": "code",
      "source": [
        "num1 = float(input(\"Enter the first number: \"))\n",
        "num2 = float(input(\"Enter the second number: \"))\n",
        "num3 = float(input(\"Enter the third number: \"))\n",
        "def find_smallest_number(a, b, c):\n",
        "    if a <= b and a <= c:\n",
        "        return a\n",
        "    elif b <= a and b <= c:\n",
        "        return b\n",
        "    else:\n",
        "        return c\n",
        "smallest = find_smallest_number(num1, num2, num3)\n",
        "print(\"The smallest number is:\", smallest)\n"
      ],
      "metadata": {
        "colab": {
          "base_uri": "https://localhost:8080/"
        },
        "id": "6csXGi0QxADR",
        "outputId": "e95fee28-32f1-4dc2-abc8-a080c4503b0d"
      },
      "execution_count": 4,
      "outputs": [
        {
          "output_type": "stream",
          "name": "stdout",
          "text": [
            "Enter the first number: 45\n",
            "Enter the second number: 32\n",
            "Enter the third number: 25\n",
            "The smallest number is: 25.0\n"
          ]
        }
      ]
    },
    {
      "cell_type": "markdown",
      "source": [
        "#write apython program to check if string is a palindrome."
      ],
      "metadata": {
        "id": "X-4givuYyxPj"
      }
    },
    {
      "cell_type": "code",
      "source": [
        "input_string = input(\"Enter a string: \")\n",
        "def is_palindrome(s):\n",
        "    # Remove spaces and convert to lowercase for uniform comparison\n",
        "    s = s.replace(\" \", \"\").lower()\n",
        "\n",
        "    # Compare the string with its reverse\n",
        "    return s == s[::-1]\n",
        "if is_palindrome(input_string):\n",
        "    print(\"The string is a palindrome.\")\n",
        "else:\n",
        "    print(\"The string is not a palindrome.\")\n"
      ],
      "metadata": {
        "colab": {
          "base_uri": "https://localhost:8080/"
        },
        "id": "2dFdh9Pp0FS6",
        "outputId": "6ba8e357-0f04-41af-f11e-2ef3df836014"
      },
      "execution_count": 8,
      "outputs": [
        {
          "output_type": "stream",
          "name": "stdout",
          "text": [
            "Enter a string: HELLO WORLD\n",
            "The string is not a palindrome.\n"
          ]
        }
      ]
    },
    {
      "cell_type": "code",
      "source": [
        "my_string= 'civic'\n",
        "rev=my_string[::-1]\n",
        "if my_string==rev:\n",
        "  print(rev+\"is palindrome\")\n",
        "else:\n",
        "    print(rev+\"is not palindrome\")"
      ],
      "metadata": {
        "colab": {
          "base_uri": "https://localhost:8080/"
        },
        "id": "_OkYNu6d1r43",
        "outputId": "831edb1c-2a45-4607-e258-0a2f2f5c3ee1"
      },
      "execution_count": 10,
      "outputs": [
        {
          "output_type": "stream",
          "name": "stdout",
          "text": [
            "civicis palindrome\n"
          ]
        }
      ]
    },
    {
      "cell_type": "markdown",
      "source": [
        "# write a python to reverse a string."
      ],
      "metadata": {
        "id": "6G2H9wFd3IMl"
      }
    },
    {
      "cell_type": "code",
      "source": [
        "text=\" hello world\"[::-1]\n",
        "print(text)"
      ],
      "metadata": {
        "colab": {
          "base_uri": "https://localhost:8080/"
        },
        "id": "R_b_Jrb93rlK",
        "outputId": "2358dacb-74eb-4a40-bb66-16b383ba1da0"
      },
      "execution_count": 11,
      "outputs": [
        {
          "output_type": "stream",
          "name": "stdout",
          "text": [
            "dlrow olleh \n"
          ]
        }
      ]
    },
    {
      "cell_type": "code",
      "source": [
        "def my_function(x):\n",
        "  return x[::-1]\n",
        "mytxt=my_function(\"hello everyone wellcome come to my world\")\n",
        "print(mytxt)\n"
      ],
      "metadata": {
        "colab": {
          "base_uri": "https://localhost:8080/"
        },
        "id": "hsBtGIGb46gJ",
        "outputId": "1ed26af6-9f50-4c2b-e873-97d112e75be8"
      },
      "execution_count": 12,
      "outputs": [
        {
          "output_type": "stream",
          "name": "stdout",
          "text": [
            "dlrow ym ot emoc emocllew enoyreve olleh\n"
          ]
        }
      ]
    },
    {
      "cell_type": "code",
      "source": [
        "def reverse_string(input_string):\n",
        "    return input_string[::-1]\n",
        "input_string = \"Hello, World!\"\n",
        "reversed_string = reverse_string(input_string)\n",
        "print(\"Reversed string:\", reversed_string)"
      ],
      "metadata": {
        "colab": {
          "base_uri": "https://localhost:8080/"
        },
        "id": "PBOvOY-450c8",
        "outputId": "5ba86f46-46fa-42b5-f632-6896c33d60ee"
      },
      "execution_count": 13,
      "outputs": [
        {
          "output_type": "stream",
          "name": "stdout",
          "text": [
            "Reversed string: !dlroW ,olleH\n"
          ]
        }
      ]
    },
    {
      "cell_type": "markdown",
      "source": [
        "#write a python program to find the largest element in a list."
      ],
      "metadata": {
        "id": "f1N7GTrj58ZW"
      }
    },
    {
      "cell_type": "code",
      "source": [
        "a=[10,24,76,23,12]\n",
        "largest=max(a)\n",
        "print(largest)"
      ],
      "metadata": {
        "colab": {
          "base_uri": "https://localhost:8080/"
        },
        "id": "T1xRWizZ604t",
        "outputId": "8b638b6e-5b25-42c8-dbf2-43097b9b4fb8"
      },
      "execution_count": 14,
      "outputs": [
        {
          "output_type": "stream",
          "name": "stdout",
          "text": [
            "76\n"
          ]
        }
      ]
    },
    {
      "cell_type": "code",
      "source": [
        "from ast import Return\n",
        "def largest(list):\n",
        "     large =list[0]\n",
        "     for i in list:\n",
        "         if i>large:\n",
        "           large=i\n",
        "           return large\n",
        "list=[3,9,7,3,6,5,7,24]\n",
        "print(\"largest in\",list,\"is\")\n",
        "print(largest(list))"
      ],
      "metadata": {
        "colab": {
          "base_uri": "https://localhost:8080/"
        },
        "id": "Aql7OH-27s2P",
        "outputId": "3a85c8c2-f0e5-4cdd-8a4e-6d3baa4d38e2"
      },
      "execution_count": 1,
      "outputs": [
        {
          "output_type": "stream",
          "name": "stdout",
          "text": [
            "largest in [3, 9, 7, 3, 6, 5, 7, 24] is\n",
            "9\n"
          ]
        }
      ]
    },
    {
      "cell_type": "markdown",
      "source": [
        "#write a python program to find the factorial of a number."
      ],
      "metadata": {
        "id": "qi0vGUdZ-QG3"
      }
    },
    {
      "cell_type": "code",
      "source": [
        "num=7\n",
        "factorial=1\n",
        "if num<0:\n",
        "  print(\"sorry, factorial does not exist for negative numbers\")\n",
        "elif num ==0:\n",
        "       print(\"the factorial of 0 is 1\")\n",
        "else:\n",
        "       for i in range(1,num+1):\n",
        "           factorial=factorial*1\n",
        "           print(\"the facorial of\",num ,\"is\",factorial)"
      ],
      "metadata": {
        "colab": {
          "base_uri": "https://localhost:8080/"
        },
        "id": "EgIXGan2_e6u",
        "outputId": "e27cd91d-c24f-4143-aef7-18cd61709782"
      },
      "execution_count": 2,
      "outputs": [
        {
          "output_type": "stream",
          "name": "stdout",
          "text": [
            "the facorial of 7 is 1\n",
            "the facorial of 7 is 1\n",
            "the facorial of 7 is 1\n",
            "the facorial of 7 is 1\n",
            "the facorial of 7 is 1\n",
            "the facorial of 7 is 1\n",
            "the facorial of 7 is 1\n"
          ]
        }
      ]
    },
    {
      "cell_type": "code",
      "source": [
        "def factorial(n):\n",
        "    if n == 0 or n == 1:\n",
        "        return 1\n",
        "    else:\n",
        "        result = 1\n",
        "        for i in range(2, n + 1):\n",
        "            result *= i\n",
        "        return result\n",
        "number = 7\n",
        "result = factorial(number)\n",
        "print(f\"The factorial of {number} is: {result}\")\n"
      ],
      "metadata": {
        "colab": {
          "base_uri": "https://localhost:8080/"
        },
        "id": "0m4M4EgzCSj8",
        "outputId": "5d8a8511-8076-4f6b-fe2a-991b82ca009f"
      },
      "execution_count": 4,
      "outputs": [
        {
          "output_type": "stream",
          "name": "stdout",
          "text": [
            "The factorial of 7 is: 5040\n"
          ]
        }
      ]
    },
    {
      "cell_type": "markdown",
      "source": [
        "#write a python to find the maximum number in a list"
      ],
      "metadata": {
        "id": "QZZJ41ZHCqpe"
      }
    },
    {
      "cell_type": "code",
      "source": [
        "def find_maximum(input_list):\n",
        "    if len(input_list) == 0:\n",
        "        return None\n",
        "    max_number = input_list[0]\n",
        "    for number in input_list:\n",
        "        if number > max_number:\n",
        "            max_number = number\n",
        "    return max_number\n",
        "input_list = [753, 56, 162, 89, 384, 920, 67]\n",
        "maximum_number = find_maximum(input_list)\n",
        "print(\"The maximum number in the list is:\", maximum_number)\n"
      ],
      "metadata": {
        "colab": {
          "base_uri": "https://localhost:8080/"
        },
        "id": "jQBAUJ9aDbh0",
        "outputId": "36315486-133e-4709-be81-cb453ce30afd"
      },
      "execution_count": 5,
      "outputs": [
        {
          "output_type": "stream",
          "name": "stdout",
          "text": [
            "The maximum number in the list is: 920\n"
          ]
        }
      ]
    }
  ]
}